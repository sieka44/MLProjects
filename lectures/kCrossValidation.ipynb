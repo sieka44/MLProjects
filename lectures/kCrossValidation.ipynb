{
 "cells": [
  {
   "cell_type": "code",
   "execution_count": 1,
   "metadata": {
    "slideshow": {
     "slide_type": "skip"
    }
   },
   "outputs": [],
   "source": [
    "import torch\n",
    "import torchvision\n",
    "from torch import nn\n",
    "import matplotlib.pyplot as plt\n",
    "import numpy as np\n",
    "%matplotlib inline"
   ]
  },
  {
   "cell_type": "markdown",
   "metadata": {
    "slideshow": {
     "slide_type": "slide"
    }
   },
   "source": [
    "## k-fold Cross Validation"
   ]
  },
  {
   "cell_type": "code",
   "execution_count": 2,
   "metadata": {
    "slideshow": {
     "slide_type": "skip"
    }
   },
   "outputs": [],
   "source": [
    "dl_train = torch.utils.data.DataLoader(\n",
    "    torchvision.datasets.MNIST('./data/mnist', train=True, download=True))\n",
    "\n",
    "dl_test  = torch.utils.data.DataLoader(\n",
    "    torchvision.datasets.MNIST('./data/mnist', train=False, download=True))"
   ]
  },
  {
   "cell_type": "code",
   "execution_count": 3,
   "metadata": {
    "slideshow": {
     "slide_type": "slide"
    }
   },
   "outputs": [],
   "source": [
    "data   = dl_train.dataset.data.to(dtype=torch.float32)/255.0\n",
    "labels = dl_train.dataset.targets"
   ]
  },
  {
   "cell_type": "code",
   "execution_count": 4,
   "metadata": {
    "slideshow": {
     "slide_type": "slide"
    }
   },
   "outputs": [
    {
     "data": {
      "image/png": "[encoded data removed]",
      "text/plain": [
       "<Figure size 2304x288 with 8 Axes>"
      ]
     },
     "metadata": {
      "needs_background": "light"
     },
     "output_type": "display_data"
    }
   ],
   "source": [
    "fig_mnist, ax = plt.subplots(1,8, figsize=(8*4,4))\n",
    "for i in range(8):\n",
    "    ax[i].imshow(data[i].numpy(), cmap='Greys');\n",
    "    ax[i].set_xlabel(\"%d\" % (labels[i],), fontsize=16)"
   ]
  },
  {
   "cell_type": "code",
   "execution_count": 5,
   "metadata": {
    "slideshow": {
     "slide_type": "slide"
    }
   },
   "outputs": [],
   "source": [
    "by_labels = [data[labels==i] for i in range(10)]"
   ]
  },
  {
   "cell_type": "code",
   "execution_count": 6,
   "metadata": {
    "slideshow": {
     "slide_type": "fragment"
    }
   },
   "outputs": [],
   "source": [
    "small_data  = torch.cat([by_labels[i][np.random.choice(len(by_labels[i]),100, replace=False)] for i in range(10)],0)"
   ]
  },
  {
   "cell_type": "code",
   "execution_count": 7,
   "metadata": {
    "slideshow": {
     "slide_type": "fragment"
    }
   },
   "outputs": [
    {
     "data": {
      "text/plain": [
       "torch.Size([1000, 28, 28])"
      ]
     },
     "execution_count": 7,
     "metadata": {},
     "output_type": "execute_result"
    }
   ],
   "source": [
    "small_data.shape"
   ]
  },
  {
   "cell_type": "code",
   "execution_count": 8,
   "metadata": {
    "slideshow": {
     "slide_type": "fragment"
    }
   },
   "outputs": [],
   "source": [
    "small_labels = torch.cat([i*torch.ones(100, dtype=torch.int64) for i in range(10)])"
   ]
  },
  {
   "cell_type": "code",
   "execution_count": 9,
   "metadata": {
    "slideshow": {
     "slide_type": "slide"
    }
   },
   "outputs": [],
   "source": [
    "perm = np.random.choice(len(small_data), len(small_data), replace=False)"
   ]
  },
  {
   "cell_type": "code",
   "execution_count": 10,
   "metadata": {
    "slideshow": {
     "slide_type": "-"
    }
   },
   "outputs": [],
   "source": [
    "shuffled_data = small_data[perm]\n",
    "shuffled_labels = small_labels[perm]"
   ]
  },
  {
   "cell_type": "code",
   "execution_count": 11,
   "metadata": {
    "slideshow": {
     "slide_type": "slide"
    }
   },
   "outputs": [],
   "source": [
    "data_folds  = torch.stack(torch.chunk(shuffled_data,5))\n",
    "label_folds = torch.stack(torch.chunk(shuffled_labels,5))"
   ]
  },
  {
   "cell_type": "code",
   "execution_count": 12,
   "metadata": {
    "slideshow": {
     "slide_type": "skip"
    }
   },
   "outputs": [],
   "source": [
    " loss_f = nn.CrossEntropyLoss()"
   ]
  },
  {
   "cell_type": "code",
   "execution_count": 13,
   "metadata": {},
   "outputs": [],
   "source": [
    "def make_model():\n",
    "    return torch.nn.Sequential(\n",
    "        nn.Linear(28*28,1200), nn.ReLU(), nn.Linear(1200,1200), nn.ReLU(),\n",
    "        nn.Linear(1200,1200), nn.ReLU(),nn.Linear(1200,10)\n",
    "    )"
   ]
  },
  {
   "cell_type": "code",
   "execution_count": 14,
   "metadata": {
    "slideshow": {
     "slide_type": "slide"
    }
   },
   "outputs": [
    {
     "name": "stdout",
     "output_type": "stream",
     "text": [
      "0.0001 tensor(0.1240)\n",
      "0.001 tensor(0.3160)\n",
      "0.01 tensor(0.8560)\n",
      "0.05 tensor(0.8780)\n",
      "0.1 tensor(0.8770)\n",
      "0.2 tensor(0.8930)\n",
      "0.5 tensor(0.7230)\n",
      "1.0 tensor(0.1030)\n"
     ]
    }
   ],
   "source": [
    " for lr in [0.0001, 0.001, 0.01 , 0.05, 0.1, 0.2, 0.5, 1.0]: \n",
    "    avg_ac = 0.0    \n",
    "    for i in range(5):\n",
    "        chunks = list(range(5))\n",
    "        chunks.remove(i)\n",
    "        kData    = data_folds[chunks].reshape(-1,28*28)\n",
    "        kLabels   = label_folds[chunks].reshape(-1)\n",
    "\n",
    "        dataset = torch.utils.data.TensorDataset(kData, kLabels)\n",
    "        train_loader = torch.utils.data.DataLoader(dataset, batch_size=50, shuffle=True)\n",
    "        model = make_model()\n",
    "        optim = torch.optim.SGD(model.parameters(), lr=lr, momentum=0.6)\n",
    "        \n",
    "        for e in range(50):\n",
    "            for d in train_loader:        \n",
    "                optim.zero_grad()\n",
    "                features, labels = d\n",
    "                pred = model(features)\n",
    "                loss = loss_f(pred, labels)\n",
    "                loss.backward()\n",
    "                optim.step()\n",
    "        with torch.no_grad():\n",
    "            pred = torch.softmax(model(data_folds[i].view(-1,28*28)),1)\n",
    "            ac = torch.sum(torch.argmax(pred,1)==label_folds[i]).to(dtype=torch.float32)/len(label_folds[i])\n",
    "            avg_ac += ac\n",
    "            #print(i, ac)\n",
    "    print(lr, avg_ac/5.0)        "
   ]
  },
  {
   "cell_type": "code",
   "execution_count": 18,
   "metadata": {
    "slideshow": {
     "slide_type": "slide"
    }
   },
   "outputs": [
    {
     "name": "stdout",
     "output_type": "stream",
     "text": [
      "0.07176781504885694 tensor(0.8820)\n",
      "0.08307762061374135 tensor(0.8830)\n",
      "0.08881066843071779 tensor(0.8800)\n",
      "0.09158548225254944 tensor(0.8820)\n",
      "0.2183274100645438 tensor(0.8960)\n",
      "0.06508800363864217 tensor(0.8810)\n",
      "0.059907634358654045 tensor(0.8780)\n",
      "0.10057267866203423 tensor(0.8850)\n"
     ]
    }
   ],
   "source": [
    " for t in range(8):\n",
    "    u = np.random.uniform(-3,-1)\n",
    "    lr = np.exp(u)\n",
    "    avg_ac = 0.0    \n",
    "    for i in range(5):\n",
    "        chunks = list(range(5))\n",
    "        chunks.remove(i)\n",
    "        kData    = data_folds[chunks].reshape(-1,28*28)\n",
    "        kLabels   = label_folds[chunks].reshape(-1)\n",
    "\n",
    "        dataset = torch.utils.data.TensorDataset(kData, kLabels)\n",
    "        train_loader = torch.utils.data.DataLoader(dataset, batch_size=50, shuffle=True)\n",
    "        model = make_model()\n",
    "        optim = torch.optim.SGD(model.parameters(), lr=lr, momentum=0.6)\n",
    "        \n",
    "        for e in range(50):\n",
    "            for d in train_loader:        \n",
    "                optim.zero_grad()\n",
    "                features, labels = d\n",
    "                pred = model(features)\n",
    "                loss = loss_f(pred, labels)\n",
    "                loss.backward()\n",
    "                optim.step()\n",
    "        with torch.no_grad():\n",
    "            pred = torch.softmax(model(data_folds[i].view(-1,28*28)),1)\n",
    "            ac = torch.sum(torch.argmax(pred,1)==label_folds[i]).to(dtype=torch.float32)/len(label_folds[i])\n",
    "            avg_ac += ac\n",
    "            #print(i, ac)\n",
    "    print(lr, avg_ac/5.0)        "
   ]
  },
  {
   "cell_type": "markdown",
   "metadata": {
    "slideshow": {
     "slide_type": "slide"
    }
   },
   "source": [
    "![](random_search.png)"
   ]
  },
  {
   "cell_type": "code",
   "execution_count": null,
   "metadata": {},
   "outputs": [],
   "source": []
  }
 ],
 "metadata": {
  "celltoolbar": "Slideshow",
  "kernelspec": {
   "display_name": "Python 3",
   "language": "python",
   "name": "python3"
  },
  "language_info": {
   "codemirror_mode": {
    "name": "ipython",
    "version": 3
   },
   "file_extension": ".py",
   "mimetype": "text/x-python",
   "name": "python",
   "nbconvert_exporter": "python",
   "pygments_lexer": "ipython3",
   "version": "3.6.9"
  },
  "pycharm": {
   "stem_cell": {
    "cell_type": "raw",
    "source": [],
    "metadata": {
     "collapsed": false
    }
   }
  }
 },
 "nbformat": 4,
 "nbformat_minor": 2
}