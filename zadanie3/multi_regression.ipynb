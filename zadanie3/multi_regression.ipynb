{
 "cells": [
  {
   "cell_type": "code",
   "execution_count": 56,
   "metadata": {
    "pycharm": {
     "is_executing": false
    }
   },
   "outputs": [],
   "source": [
    "import numpy as np\n",
    "import scipy as sp\n",
    "import scipy.stats as stats\n",
    "\n",
    "import matplotlib.pyplot as plt\n",
    "%matplotlib inline\n",
    "import torch \n",
    "import torchvision"
   ]
  },
  {
   "cell_type": "code",
   "execution_count": 57,
   "metadata": {
    "pycharm": {
     "is_executing": false
    }
   },
   "outputs": [],
   "source": [
    "training = np.load('reg_multi.npy')"
   ]
  },
  {
   "cell_type": "code",
   "execution_count": 58,
   "metadata": {
    "pycharm": {
     "is_executing": false
    }
   },
   "outputs": [
    {
     "name": "stdout",
     "text": [
      "(60000, 17)",
      "\n",
      "torch.Size([16, 1000])",
      "\n",
      "torch.Size([1000])",
      "\n"
     ],
     "output_type": "stream"
    }
   ],
   "source": [
    "x_dataset = torch.from_numpy(training[:1000,0:16]).t()\n",
    "y_dataset = torch.from_numpy(training[:1000,16]).t()\n",
    "number_columns = 16\n",
    "print(training.shape)\n",
    "print(x_dataset.shape)\n",
    "print(y_dataset.shape)"
   ]
  },
  {
   "cell_type": "code",
   "execution_count": 59,
   "metadata": {
    "pycharm": {
     "is_executing": false
    }
   },
   "outputs": [],
   "source": [
    "# train_loader = torch.utils.data.DataLoader(t,batch_size=size,shuffle=True)"
   ]
  },
  {
   "cell_type": "code",
   "execution_count": null,
   "outputs": [],
   "source": [
    "# f = Ax + b\n",
    "A = torch.randn((1,number_columns),requires_grad=True)\n",
    "b = torch.randn(1,requires_grad=True)\n",
    "def model(x_input):\n",
    "    return A.mm(x_input) + b\n",
    "def loss(y_predicted, y_target):\n",
    "    return ((y_predicted - y_target)**2).sum()"
   ],
   "metadata": {
    "collapsed": false,
    "pycharm": {
     "name": "#%%\n"
    }
   }
  },
  {
   "cell_type": "code",
   "execution_count": 60,
   "metadata": {
    "pycharm": {
     "is_executing": false
    }
   },
   "outputs": [
    {
     "name": "stdout",
     "text": [
      "t = 0, loss = 9304.427734375",
      "\n",
      "t = 1000, loss = 2278.260009765625",
      "\n",
      "t = 2000, loss = 706.2139892578125",
      "\n",
      "t = 3000, loss = 378.134033203125",
      "\n",
      "t = 4000, loss = 335.5292053222656",
      "\n",
      "t = 5000, loss = 333.49249267578125",
      "\n",
      "t = 6000, loss = 333.4761962890625",
      "\n",
      "t = 7000, loss = 333.4761657714844",
      "\n",
      "t = 8000, loss = 333.4761657714844",
      "\n",
      "t = 9000, loss = 333.4761657714844",
      "\n"
     ],
     "output_type": "stream"
    }
   ],
   "source": [
    "optimizer = torch.optim.Adam([A,b], lr=0.001)\n",
    "max_epoch = 10000\n",
    "for epoch in range(max_epoch):\n",
    "    optimizer.zero_grad()\n",
    "    y_pred = model(x_dataset)\n",
    "    c_loss = loss(y_pred,y_dataset)\n",
    "    c_loss.backward()\n",
    "    optimizer.step()\n",
    "    if epoch % 1000 == 0:\n",
    "        print(f\"t = {epoch}, loss = {c_loss}\")"
   ]
  },
  {
   "cell_type": "code",
   "execution_count": 61,
   "metadata": {
    "pycharm": {
     "is_executing": false,
     "name": "#%%\n"
    }
   },
   "outputs": [
    {
     "name": "stdout",
     "text": [
      "A = [[-0.00746233  0.06264612 -0.00745292 -0.02609568  0.00342379  0.01760814\n  -0.0276236   0.01418392 -0.01270398  0.04081987 -0.05075576 -0.02595832\n   0.00668264  0.09286415 -0.07409634  0.01621172]], b = 0.01607140153646469",
      "\n"
     ],
     "output_type": "stream"
    }
   ],
   "source": [
    "print(f\"A = {A.detach().numpy()}, b = {b.item()}\")\n",
    "torch.save(model, \"multi_regression.pt\")"
   ]
  }
 ],
 "metadata": {
  "kernelspec": {
   "display_name": "Python 3",
   "language": "python",
   "name": "python3"
  },
  "language_info": {
   "codemirror_mode": {
    "name": "ipython",
    "version": 3
   },
   "file_extension": ".py",
   "mimetype": "text/x-python",
   "name": "python",
   "nbconvert_exporter": "python",
   "pygments_lexer": "ipython3",
   "version": "3.6.6"
  },
  "pycharm": {
   "stem_cell": {
    "cell_type": "raw",
    "source": [],
    "metadata": {
     "collapsed": false
    }
   }
  }
 },
 "nbformat": 4,
 "nbformat_minor": 4
}