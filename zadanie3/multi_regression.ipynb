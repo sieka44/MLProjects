{
 "cells": [
  {
   "cell_type": "code",
   "execution_count": 21,
   "metadata": {
    "pycharm": {
     "is_executing": false
    }
   },
   "outputs": [],
   "source": [
    "import numpy as np\n",
    "import scipy as sp\n",
    "import scipy.stats as stats\n",
    "\n",
    "import matplotlib.pyplot as plt\n",
    "%matplotlib inline"
   ]
  },
  {
   "cell_type": "code",
   "execution_count": 22,
   "metadata": {
    "pycharm": {
     "is_executing": false
    }
   },
   "outputs": [],
   "source": [
    "import torch \n",
    "import torchvision"
   ]
  },
  {
   "cell_type": "markdown",
   "metadata": {},
   "source": [
    "\n",
    "## Zadanie 1"
   ]
  },
  {
   "cell_type": "markdown",
   "metadata": {},
   "source": [
    "Wytrenuj sieć na danych  z pliku `reg_data_noise.npy`. "
   ]
  },
  {
   "cell_type": "code",
   "execution_count": 23,
   "metadata": {
    "pycharm": {
     "is_executing": false
    }
   },
   "outputs": [],
   "source": [
    "data = np.load('reg_multi.npy')"
   ]
  },
  {
   "cell_type": "code",
   "execution_count": 43,
   "metadata": {
    "pycharm": {
     "is_executing": false
    }
   },
   "outputs": [
    {
     "name": "stdout",
     "text": [
      "(1000, 16)",
      "\n"
     ],
     "output_type": "stream"
    }
   ],
   "source": [
    "training = data[:1000,0:16]\n",
    "target = data[:1000,15:17]\n",
    "expectX = target[:,0]\n",
    "expectY = target[:,1]\n",
    "print(training.shape)"
   ]
  },
  {
   "cell_type": "code",
   "execution_count": 44,
   "metadata": {
    "pycharm": {
     "is_executing": false
    }
   },
   "outputs": [
    {
     "data": {
      "text/plain": "<Figure size 432x288 with 1 Axes>",
      "image/png": "[encoded data removed]"
     },
     "metadata": {
      "needs_background": "light"
     },
     "output_type": "display_data"
    }
   ],
   "source": [
    "plt.scatter(expectX,expectY);"
   ]
  },
  {
   "cell_type": "code",
   "execution_count": 26,
   "metadata": {
    "pycharm": {
     "is_executing": false
    }
   },
   "outputs": [],
   "source": [
    "# model = torch.nn.Sequential(torch.nn.Linear(1,5),\n",
    "#                     torch.nn.ReLU(), torch.nn.Linear(5,1))\n",
    "# "
   ]
  },
  {
   "cell_type": "code",
   "execution_count": 27,
   "metadata": {
    "pycharm": {
     "is_executing": false
    }
   },
   "outputs": [],
   "source": [
    "# t_xs = torch.from_numpy(xs).view(-1,1)\n",
    "# t_ys = torch.from_numpy(ys).view(-1,1)\n",
    "# "
   ]
  },
  {
   "cell_type": "code",
   "execution_count": 28,
   "metadata": {
    "pycharm": {
     "is_executing": false
    }
   },
   "outputs": [],
   "source": [
    "# t_out = model(t_xs)\n",
    "# \n",
    "# plt.plot(xs, t_out.data.view(-1).numpy(),'.')\n",
    "# "
   ]
  },
  {
   "cell_type": "code",
   "execution_count": 29,
   "metadata": {
    "pycharm": {
     "is_executing": false
    }
   },
   "outputs": [],
   "source": [
    "# dataset = torch.utils.data.TensorDataset(t_xs, t_ys)\n",
    "# (train_set, valid_set) = torch.utils.data.random_split(dataset,(160,40))\n",
    "# "
   ]
  },
  {
   "cell_type": "code",
   "execution_count": 30,
   "metadata": {
    "pycharm": {
     "is_executing": false
    }
   },
   "outputs": [],
   "source": [
    "# size = 30\n",
    "# print(size)\n",
    "# train_loader = torch.utils.data.DataLoader(train_set,batch_size=size,shuffle=True)\n",
    "# "
   ]
  },
  {
   "cell_type": "code",
   "execution_count": 31,
   "metadata": {
    "pycharm": {
     "is_executing": false
    }
   },
   "outputs": [],
   "source": [
    "# optimizer = torch.optim.SGD(model.parameters(),lr =0.00001)\n",
    "# "
   ]
  },
  {
   "cell_type": "code",
   "execution_count": 32,
   "metadata": {
    "pycharm": {
     "is_executing": false
    }
   },
   "outputs": [],
   "source": [
    "# loss_func = torch.nn.MSELoss()\n",
    "# "
   ]
  },
  {
   "cell_type": "code",
   "execution_count": 33,
   "metadata": {
    "pycharm": {
     "is_executing": false
    }
   },
   "outputs": [],
   "source": [
    "# %%time\n",
    "# err_train=[]\n",
    "# err_valid=[]\n",
    "# for epoch in range(10000):    \n",
    "#     for datum in train_loader:\n",
    "#         optimizer.zero_grad()\n",
    "#         (features,target) = datum\n",
    "#         pred = model(features)\n",
    "#         loss = loss_func(pred, target)\n",
    "#         loss.backward()\n",
    "#         optimizer.step()\n",
    "#     \n",
    "#     with torch.no_grad():\n",
    "#         vpred  = model(valid_set[:][0])\n",
    "#         vloss  = loss_func(vpred,valid_set[:][1])\n",
    "#         err_valid.append(vloss)\n",
    "#         pred  = model(train_set[:][0])\n",
    "#         loss  = loss_func(pred,train_set[:][1])\n",
    "#         err_train.append(loss)\n",
    "#     if epoch%1000 == 0:\n",
    "#         print(\"epoch %d %f %f \" % (epoch, loss, vloss))   \n",
    "# "
   ]
  },
  {
   "cell_type": "code",
   "execution_count": 34,
   "metadata": {
    "pycharm": {
     "is_executing": false
    }
   },
   "outputs": [],
   "source": [
    "# plt.plot(err_train, '.', label='train')\n",
    "# plt.plot(err_valid, '.', label='valid');\n",
    "# plt.legend()\n",
    "# "
   ]
  },
  {
   "cell_type": "code",
   "execution_count": 35,
   "metadata": {
    "pycharm": {
     "is_executing": false
    }
   },
   "outputs": [],
   "source": [
    "# t_out_train = model(train_set[:][0])\n",
    "# plt.plot(train_set[:][0].data.numpy(), t_out_train.data.view(-1).numpy(),'.')\n",
    "# t_out_valid = model(valid_set[:][0])\n",
    "# plt.plot(valid_set[:][0].data.numpy(), t_out_valid.data.view(-1).numpy(),'.')\n",
    "# "
   ]
  },
  {
   "cell_type": "code",
   "execution_count": 36,
   "metadata": {
    "pycharm": {
     "is_executing": false
    }
   },
   "outputs": [],
   "source": [
    "# torch.save(model, \"model.pt\")\n",
    "# "
   ]
  },
  {
   "cell_type": "code",
   "execution_count": 36,
   "metadata": {
    "pycharm": {
     "is_executing": false
    }
   },
   "outputs": [],
   "source": []
  }
 ],
 "metadata": {
  "kernelspec": {
   "display_name": "Python 3",
   "language": "python",
   "name": "python3"
  },
  "language_info": {
   "codemirror_mode": {
    "name": "ipython",
    "version": 3
   },
   "file_extension": ".py",
   "mimetype": "text/x-python",
   "name": "python",
   "nbconvert_exporter": "python",
   "pygments_lexer": "ipython3",
   "version": "3.6.6"
  },
  "pycharm": {
   "stem_cell": {
    "cell_type": "raw",
    "source": [],
    "metadata": {
     "collapsed": false
    }
   }
  }
 },
 "nbformat": 4,
 "nbformat_minor": 4
}