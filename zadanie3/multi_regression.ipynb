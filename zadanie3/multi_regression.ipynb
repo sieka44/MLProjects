{
 "cells": [
  {
   "cell_type": "code",
   "execution_count": 1,
   "metadata": {
    "pycharm": {
     "is_executing": false
    }
   },
   "outputs": [],
   "source": [
    "import numpy as np\n",
    "import scipy as sp\n",
    "import scipy.stats as stats\n",
    "\n",
    "import matplotlib.pyplot as plt\n",
    "%matplotlib inline\n",
    "\n",
    "import torch \n",
    "import torchvision"
   ]
  },
  {
   "cell_type": "code",
   "execution_count": 2,
   "metadata": {
    "pycharm": {
     "is_executing": false
    }
   },
   "outputs": [],
   "source": [
    "training = np.load('reg_multi.npy')"
   ]
  },
  {
   "cell_type": "code",
   "execution_count": 3,
   "metadata": {
    "pycharm": {
     "is_executing": false
    }
   },
   "outputs": [
    {
     "name": "stdout",
     "text": [
      "(60000, 17)",
      "\n",
      "16",
      "\n",
      "1",
      "\n",
      "False",
      "\n"
     ],
     "output_type": "stream"
    }
   ],
   "source": [
    "# x_dataset = training[:,0:16]\n",
    "# y_dataset = training[:,16]\n",
    "x_dataset = torch.from_numpy(training[:,0:16]).t()\n",
    "y_dataset = torch.from_numpy(training[:,15:16]).t()#.view(-1,1)\n",
    "number_columns = 16\n",
    "print(training.shape)\n",
    "print(x_dataset.size(0))\n",
    "print(y_dataset.size(0))\n",
    "print(x_dataset.size(0) == y_dataset.size(0))"
   ]
  },
  {
   "cell_type": "code",
   "execution_count": 4,
   "metadata": {
    "pycharm": {
     "is_executing": false
    }
   },
   "outputs": [],
   "source": [
    "size = 10000\n",
    "# dataset = torch.utils.data.TensorDataset(y_dataset, x_dataset)\n",
    "# (train_set, valid_set) = torch.utils.data.random_split(dataset,(58000,2000))\n",
    "# train_loader = torch.utils.data.DataLoader(x_dataset,batch_size=size,shuffle=True)"
   ]
  },
  {
   "cell_type": "code",
   "execution_count": 5,
   "outputs": [],
   "source": [
    "# f = Ax + b\n",
    "A = torch.randn((1,number_columns),requires_grad=True)\n",
    "b = torch.randn(1,requires_grad=True)\n",
    "def model(x_input):\n",
    "    return A.mm(x_input) + b\n",
    "def loss(y_predicted, y_target):\n",
    "    return ((y_predicted - y_target)**2).sum()"
   ],
   "metadata": {
    "collapsed": false,
    "pycharm": {
     "name": "#%%\n",
     "is_executing": false
    }
   }
  },
  {
   "cell_type": "code",
   "execution_count": 13,
   "metadata": {
    "pycharm": {
     "is_executing": false
    }
   },
   "outputs": [
    {
     "name": "stdout",
     "text": [
      "t = 0, loss = 0.18767035007476807",
      "\n"
     ],
     "output_type": "stream"
    }
   ],
   "source": [
    "optimizer = torch.optim.Adam([A,b], lr=0.0001)\n",
    "max_epoch = 100000\n",
    "c_loss = 0.0\n",
    "for epoch in range(max_epoch):\n",
    "    optimizer.zero_grad()\n",
    "    y_pred = model(x_dataset)\n",
    "    c_loss = loss(y_pred,y_dataset)\n",
    "    c_loss.backward()\n",
    "    optimizer.step()\n",
    "    if epoch % 1000 == 0:\n",
    "        print(f\"t = {epoch}, loss = {c_loss}\")"
   ]
  },
  {
   "cell_type": "code",
   "execution_count": 16,
   "metadata": {
    "pycharm": {
     "is_executing": false,
     "name": "#%%\n"
    }
   },
   "outputs": [
    {
     "name": "stdout",
     "text": [
      "loss = 5.013913096778937e-18",
      "\n",
      "A = [[ 3.2542157e-12 -3.0528596e-12  3.0590037e-11  3.2756284e-11\n   6.4299504e-14 -2.0128177e-11 -9.3726476e-12 -1.5535902e-12\n  -2.0568004e-11  1.6430487e-11 -3.4520234e-11  1.2999659e-11\n   2.0536529e-10 -1.9245699e-12  6.7817384e-11  1.0000000e+00]], b = 3.945523768811299e-11",
      "\n"
     ],
     "output_type": "stream"
    }
   ],
   "source": [
    "print(f\"loss = {c_loss}\")\n",
    "print(f\"A = {A.detach().numpy()}, b = {b.item()}\")"
   ]
  },
  {
   "cell_type": "code",
   "execution_count": 18,
   "outputs": [],
   "source": [
    "torch.save(model, \"multi_regression_final.pt\")"
   ],
   "metadata": {
    "collapsed": false,
    "pycharm": {
     "name": "#%%\n",
     "is_executing": false
    }
   }
  }
 ],
 "metadata": {
  "kernelspec": {
   "display_name": "Python 3",
   "language": "python",
   "name": "python3"
  },
  "language_info": {
   "codemirror_mode": {
    "name": "ipython",
    "version": 3
   },
   "file_extension": ".py",
   "mimetype": "text/x-python",
   "name": "python",
   "nbconvert_exporter": "python",
   "pygments_lexer": "ipython3",
   "version": "3.6.6"
  },
  "pycharm": {
   "stem_cell": {
    "cell_type": "raw",
    "source": [],
    "metadata": {
     "collapsed": false
    }
   }
  }
 },
 "nbformat": 4,
 "nbformat_minor": 4
}