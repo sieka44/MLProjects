{
 "cells": [
  {
   "cell_type": "code",
   "execution_count": 3,
   "metadata": {
    "pycharm": {
     "is_executing": false
    }
   },
   "outputs": [],
   "source": [
    "import numpy as np\n",
    "import scipy as sp\n",
    "import scipy.stats as stats\n",
    "import matplotlib.pyplot as plt\n",
    "import torch \n",
    "%matplotlib inline\n",
    "import torchvision\n",
    "\n",
    "import torch.nn as nn"
   ]
  },
  {
   "cell_type": "code",
   "execution_count": 4,
   "metadata": {
    "pycharm": {
     "is_executing": false
    }
   },
   "outputs": [],
   "source": [
    "training = np.load('reg_multi.npy')"
   ]
  },
  {
   "cell_type": "code",
   "execution_count": 5,
   "metadata": {
    "pycharm": {
     "is_executing": false
    }
   },
   "outputs": [
    {
     "name": "stdout",
     "text": [
      "(60000, 17)",
      "\n",
      "torch.Size([60000, 16])",
      "\n",
      "torch.Size([60000])",
      "\n",
      "True",
      "\n"
     ],
     "output_type": "stream"
    }
   ],
   "source": [
    "x_dataset = torch.from_numpy(training[:,:16])#.t()\n",
    "y_dataset = torch.from_numpy(training[:,16])#.t()#.view(-1,1)\n",
    "number_columns = 16\n",
    "print(training.shape)\n",
    "print(x_dataset.shape)\n",
    "print(y_dataset.shape)\n",
    "print(x_dataset.size(0) == y_dataset.size(0))"
   ]
  },
  {
   "cell_type": "code",
   "execution_count": 25,
   "metadata": {
    "pycharm": {
     "is_executing": false
    }
   },
   "outputs": [
    {
     "name": "stdout",
     "text": [
      "(tensor([[-0.6842, -0.8948,  0.0370, -0.7918, -0.4853, -0.8350, -0.1086,  0.7443,\n          0.1368,  0.7213,  0.6274, -0.2482,  0.9813,  0.1931, -0.1693, -0.4865]]), tensor([-0.5732]))",
      "\n"
     ],
     "output_type": "stream"
    }
   ],
   "source": [
    "batch_size = 15000\n",
    "dataset = torch.utils.data.TensorDataset(x_dataset, y_dataset)\n",
    "train_loader = torch.utils.data.DataLoader(dataset,batch_size=batch_size,shuffle=True)\n",
    "print(dataset[0:1])"
   ]
  },
  {
   "cell_type": "code",
   "execution_count": 26,
   "outputs": [],
   "source": [
    "# f = Ax + b\n",
    "A = torch.randn((1,number_columns),requires_grad=True)\n",
    "b = torch.randn(1,requires_grad=True)"
   ],
   "metadata": {
    "collapsed": false,
    "pycharm": {
     "name": "#%%\n",
     "is_executing": false
    }
   }
  },
  {
   "cell_type": "code",
   "execution_count": 27,
   "outputs": [],
   "source": [
    "loss = torch.nn.MSELoss()\n",
    "\n",
    "# model = torch.nn.Sequential(torch.nn.Linear(number_columns,512),\n",
    "#                     torch.nn.ReLU(), torch.nn.Linear(512,1))\n",
    "input_size = number_columns\n",
    "hidden_sizes = [512, 128]\n",
    "output_size = 1\n",
    "# Build a feed-forward network\n",
    "model = nn.Sequential(nn.Linear(input_size, hidden_sizes[0]),\n",
    "                      nn.ReLU(),\n",
    "                      nn.Linear(hidden_sizes[0], hidden_sizes[1]),\n",
    "                      nn.ReLU(),\n",
    "                      nn.Linear(hidden_sizes[1], output_size))\n",
    "                      # nn.Softmax(dim=1))\n",
    "c_loss = 0.0"
   ],
   "metadata": {
    "collapsed": false,
    "pycharm": {
     "name": "#%%\n",
     "is_executing": false
    }
   }
  },
  {
   "cell_type": "code",
   "execution_count": 31,
   "outputs": [
    {
     "name": "stdout",
     "text": [
      "t = 0, loss = 0.30824968218803406",
      "\n",
      "t = 10, loss = 0.31136736273765564",
      "\n",
      "t = 20, loss = 0.308852881193161",
      "\n",
      "t = 30, loss = 0.3123956322669983",
      "\n",
      "t = 40, loss = 0.2962976396083832",
      "\n",
      "t = 50, loss = 0.3159068822860718",
      "\n",
      "t = 60, loss = 0.3072340488433838",
      "\n",
      "t = 70, loss = 0.3057303726673126",
      "\n",
      "t = 80, loss = 0.3112246096134186",
      "\n",
      "t = 90, loss = 0.30244180560112",
      "\n"
     ],
     "output_type": "stream"
    }
   ],
   "source": [
    "optimizer = torch.optim.SGD(model.parameters(),lr =0.1)\n",
    "\n",
    "max_epoch = 100\n",
    "for epoch in range(max_epoch):\n",
    "    for datum in train_loader:\n",
    "        optimizer.zero_grad()\n",
    "        (features,target) = datum\n",
    "        y_pred = model(features)\n",
    "        c_loss = loss(y_pred, target)\n",
    "        c_loss.backward()\n",
    "        optimizer.step()\n",
    "    if epoch % 10 == 0:\n",
    "        print(f\"t = {epoch}, loss = {c_loss}\")"
   ],
   "metadata": {
    "collapsed": false,
    "pycharm": {
     "name": "#%%\n",
     "is_executing": false
    }
   }
  },
  {
   "cell_type": "code",
   "execution_count": 29,
   "metadata": {
    "pycharm": {
     "is_executing": false,
     "name": "#%%\n"
    }
   },
   "outputs": [
    {
     "name": "stdout",
     "text": [
      "loss = 0.3121108114719391",
      "\n"
     ],
     "output_type": "stream"
    }
   ],
   "source": [
    "print(f\"loss = {c_loss}\")\n",
    "# print(f\"A = {A.detach().numpy()}, b = {b.item()}\")"
   ]
  },
  {
   "cell_type": "code",
   "execution_count": 30,
   "outputs": [],
   "source": [
    "torch.save(model, \"multi_regression.pt\")"
   ],
   "metadata": {
    "collapsed": false,
    "pycharm": {
     "name": "#%%\n",
     "is_executing": false
    }
   }
  }
 ],
 "metadata": {
  "kernelspec": {
   "display_name": "Python 3",
   "language": "python",
   "name": "python3"
  },
  "language_info": {
   "codemirror_mode": {
    "name": "ipython",
    "version": 3
   },
   "file_extension": ".py",
   "mimetype": "text/x-python",
   "name": "python",
   "nbconvert_exporter": "python",
   "pygments_lexer": "ipython3",
   "version": "3.6.6"
  },
  "pycharm": {
   "stem_cell": {
    "cell_type": "raw",
    "source": [],
    "metadata": {
     "collapsed": false
    }
   }
  }
 },
 "nbformat": 4,
 "nbformat_minor": 4
}