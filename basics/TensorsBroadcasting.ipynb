{
 "cells": [
  {
   "cell_type": "code",
   "execution_count": 1,
   "metadata": {
    "pycharm": {
     "is_executing": false
    }
   },
   "outputs": [],
   "source": [
    "import numpy as np"
   ]
  },
  {
   "cell_type": "markdown",
   "metadata": {},
   "source": [
    "## Broadcasting"
   ]
  },
  {
   "cell_type": "markdown",
   "metadata": {
    "pycharm": {
     "name": "#%% md\n"
    }
   },
   "source": [
    "Elmentwise operation on arrays require the tensors to be of the same shape:"
   ]
  },
  {
   "cell_type": "code",
   "execution_count": 2,
   "metadata": {
    "pycharm": {
     "is_executing": false
    }
   },
   "outputs": [],
   "source": [
    "mat1 = np.ones((3,4))\n",
    "mat2 = 2*np.ones_like(mat1)"
   ]
  },
  {
   "cell_type": "code",
   "execution_count": 3,
   "metadata": {
    "pycharm": {
     "is_executing": false
    }
   },
   "outputs": [
    {
     "data": {
      "text/plain": "array([[3., 3., 3., 3.],\n       [3., 3., 3., 3.],\n       [3., 3., 3., 3.]])"
     },
     "metadata": {},
     "output_type": "execute_result",
     "execution_count": 3
    }
   ],
   "source": [
    "mat1+mat2"
   ]
  },
  {
   "cell_type": "markdown",
   "metadata": {},
   "source": [
    "However creating a whole array when we just want to add same  number to all elemnts like above would be tedious. That's why `numpy` provides a much more convenient way:"
   ]
  },
  {
   "cell_type": "code",
   "execution_count": 4,
   "metadata": {
    "pycharm": {
     "is_executing": false
    }
   },
   "outputs": [
    {
     "data": {
      "text/plain": "array([[3., 3., 3., 3.],\n       [3., 3., 3., 3.],\n       [3., 3., 3., 3.]])"
     },
     "metadata": {},
     "output_type": "execute_result",
     "execution_count": 4
    }
   ],
   "source": [
    "mat1 + 2"
   ]
  },
  {
   "cell_type": "markdown",
   "metadata": {},
   "source": [
    "This is in example of *broadcasting*. Value 2 in this case is broadcast along all missing dimensions. This notion extends beyond the scalars.\n",
    "\n",
    "Let's try to add a vector. Experimenting with the size you will find out that only size (except for 1) that does not give an error is 4:"
   ]
  },
  {
   "cell_type": "code",
   "execution_count": 5,
   "metadata": {
    "pycharm": {
     "is_executing": false
    }
   },
   "outputs": [
    {
     "data": {
      "text/plain": "array([[1., 2., 3., 4.],\n       [1., 2., 3., 4.],\n       [1., 2., 3., 4.]])"
     },
     "metadata": {},
     "output_type": "execute_result",
     "execution_count": 5
    }
   ],
   "source": [
    "mat1 + np.arange(4)"
   ]
  },
  {
   "cell_type": "markdown",
   "metadata": {},
   "source": [
    "and the result is to add this vector to all rows. This is also convenient. Bradcasting is a very powerful technique but can be easy to get wrong. \n",
    "That's why sooner or later you should invest some time and familiarize yourself with numpy [broadcast semantics](https://docs.scipy.org/doc/numpy/user/basics.broadcasting.html). "
   ]
  },
  {
   "cell_type": "markdown",
   "metadata": {},
   "source": [
    "For broadcast to work the dimensions of the two arrays must be compatible. The dimensions are matched from the last dimenion. Two dimensions are compatible if \n",
    "  * they have the same size\n",
    "  * one of them has size one"
   ]
  },
  {
   "cell_type": "markdown",
   "metadata": {},
   "source": [
    "In our example \n",
    "\n",
    "    3 x 4 \n",
    "        4 \n",
    "        \n",
    "The missing dimensions are  assumed to have size one so this is equivalent to   \n",
    "\n",
    "    3 x 4 \n",
    "    1 x 4 \n",
    "\n",
    "When one dimension has size one, the size of the other one is taken as te size of this dimension in the result. So the result of this operation is \n",
    "\n",
    "    3 x 4\n",
    "\n",
    "\n",
    "We could say that the vector od size 4 was first reshaped  to size (1,4) and then its copies were concatenated along the first dimension to form a (3,4) array that was finally added to the original.  "
   ]
  },
  {
   "cell_type": "markdown",
   "metadata": {},
   "source": [
    "So how we add a vector to every column? "
   ]
  },
  {
   "cell_type": "markdown",
   "metadata": {},
   "source": [
    "Broadcasting can have suprising effects"
   ]
  },
  {
   "cell_type": "code",
   "execution_count": 6,
   "metadata": {
    "pycharm": {
     "is_executing": false
    }
   },
   "outputs": [],
   "source": [
    "v1 = np.ones(5)\n",
    "v2 = np.arange(5)"
   ]
  },
  {
   "cell_type": "markdown",
   "metadata": {},
   "source": [
    "This works as expected:"
   ]
  },
  {
   "cell_type": "code",
   "execution_count": 7,
   "metadata": {
    "pycharm": {
     "is_executing": false
    }
   },
   "outputs": [
    {
     "data": {
      "text/plain": "array([1., 2., 3., 4., 5.])"
     },
     "metadata": {},
     "output_type": "execute_result",
     "execution_count": 7
    }
   ],
   "source": [
    "v1+v2"
   ]
  },
  {
   "cell_type": "markdown",
   "metadata": {},
   "source": [
    "However reshaping the first vector to column vector, will produce something more akin to tensor product.  "
   ]
  },
  {
   "cell_type": "code",
   "execution_count": 8,
   "metadata": {
    "pycharm": {
     "is_executing": false
    }
   },
   "outputs": [
    {
     "data": {
      "text/plain": "array([[1., 2., 3., 4., 5.],\n       [1., 2., 3., 4., 5.],\n       [1., 2., 3., 4., 5.],\n       [1., 2., 3., 4., 5.],\n       [1., 2., 3., 4., 5.]])"
     },
     "metadata": {},
     "output_type": "execute_result",
     "execution_count": 8
    }
   ],
   "source": [
    "v1.reshape(-1,1) + v2 "
   ]
  },
  {
   "cell_type": "markdown",
   "metadata": {},
   "source": [
    "This happens because according to bradcasting rules, the original shapes\n",
    "\n",
    "      5 x 1\n",
    "          5\n",
    "          \n",
    "are broadcasted to \n",
    "\n",
    "      5 x 5   \n",
    "\n",
    "And this can get compouned in higher dimensions. "
   ]
  },
  {
   "cell_type": "code",
   "execution_count": 9,
   "metadata": {
    "pycharm": {
     "is_executing": false
    }
   },
   "outputs": [
    {
     "data": {
      "text/plain": "(3, 3, 4, 4)"
     },
     "metadata": {},
     "output_type": "execute_result",
     "execution_count": 9
    }
   ],
   "source": [
    "(mat1.reshape(1,3,1,4)+ mat1.reshape(3,1,4,1)).shape"
   ]
  },
  {
   "cell_type": "markdown",
   "metadata": {},
   "source": [
    "As mentioned before broadcasting is a very powerful technique. However because it is applied automatically it can  allow some errors to go unnnotices. You should always check if the results agree with your intentions. "
   ]
  },
  {
   "cell_type": "code",
   "execution_count": 9,
   "metadata": {
    "pycharm": {
     "is_executing": false
    }
   },
   "outputs": [],
   "source": []
  }
 ],
 "metadata": {
  "jupytext": {
   "text_representation": {
    "extension": ".Rmd",
    "format_name": "rmarkdown",
    "format_version": "1.1",
    "jupytext_version": "1.1.2"
   }
  },
  "kernelspec": {
   "display_name": "Python 3",
   "language": "python",
   "name": "python3"
  },
  "language_info": {
   "codemirror_mode": {
    "name": "ipython",
    "version": 3
   },
   "file_extension": ".py",
   "mimetype": "text/x-python",
   "name": "python",
   "nbconvert_exporter": "python",
   "pygments_lexer": "ipython3",
   "version": "3.6.6"
  },
  "pycharm": {
   "stem_cell": {
    "cell_type": "raw",
    "source": [],
    "metadata": {
     "collapsed": false
    }
   }
  }
 },
 "nbformat": 4,
 "nbformat_minor": 4
}