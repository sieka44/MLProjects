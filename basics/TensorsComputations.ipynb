{
 "cells": [
  {
   "cell_type": "code",
   "execution_count": 1,
   "metadata": {
    "pycharm": {
     "is_executing": false
    }
   },
   "outputs": [],
   "source": [
    "import numpy as np\n",
    "\n",
    "import matplotlib.image as img\n",
    "import matplotlib.pyplot as plt\n",
    "%matplotlib inline"
   ]
  },
  {
   "cell_type": "markdown",
   "metadata": {},
   "source": [
    "## Arithmetical operations"
   ]
  },
  {
   "cell_type": "markdown",
   "metadata": {},
   "source": [
    "So far all the operations on tensors did not change their elements. Time to change this. \n",
    "\n",
    "`numpy` supports all arithmetic operations and many functions in form of elementwise operations. For example  for multiplication"
   ]
  },
  {
   "cell_type": "markdown",
   "metadata": {},
   "source": [
    "$$ \\forall_{ijk}\\quad  z_{ijk}=x_{ijkl} \\cdot y_{ijk}$$ "
   ]
  },
  {
   "cell_type": "markdown",
   "metadata": {},
   "source": [
    "Please note several different ways used to time the commands below. "
   ]
  },
  {
   "cell_type": "code",
   "execution_count": 38,
   "metadata": {
    "pycharm": {
     "is_executing": false
    }
   },
   "outputs": [],
   "source": [
    "x = np.random.normal(0,1,(3,5,2))\n",
    "y = np.random.normal(0,1,(3,5,2))\n",
    "z = x * y "
   ]
  },
  {
   "cell_type": "markdown",
   "metadata": {},
   "source": [
    "Please note that arithmetic operations create a new array. "
   ]
  },
  {
   "cell_type": "code",
   "execution_count": 39,
   "metadata": {
    "pycharm": {
     "is_executing": false
    }
   },
   "outputs": [
    {
     "name": "stdout",
     "text": [
      "None\n"
     ],
     "output_type": "stream"
    }
   ],
   "source": [
    "print(z.base)"
   ]
  },
  {
   "cell_type": "markdown",
   "metadata": {},
   "source": [
    "This is equivalent to the following loop but faster"
   ]
  },
  {
   "cell_type": "code",
   "execution_count": 4,
   "metadata": {
    "pycharm": {
     "is_executing": false
    }
   },
   "outputs": [
    {
     "name": "stdout",
     "text": [
      "Wall time: 1 ms\n"
     ],
     "output_type": "stream"
    }
   ],
   "source": [
    "%%time\n",
    "zloop = np.zeros((3,5,2))\n",
    "for i in range(3):\n",
    "    for j in range(5):\n",
    "        for k in range(2):\n",
    "            z[i,j,k]=x[i,j,k] * y[i,j,k]"
   ]
  },
  {
   "cell_type": "markdown",
   "metadata": {},
   "source": [
    "Time difference in this case is not  very big, but for bigger arrays it can becomes very large:"
   ]
  },
  {
   "cell_type": "code",
   "execution_count": 5,
   "metadata": {
    "pycharm": {
     "is_executing": false
    }
   },
   "outputs": [],
   "source": [
    "import timeit"
   ]
  },
  {
   "cell_type": "code",
   "execution_count": 6,
   "metadata": {
    "pycharm": {
     "is_executing": false
    }
   },
   "outputs": [
    {
     "name": "stdout",
     "text": [
      "Took 0.000266855999999871 \n"
     ],
     "output_type": "stream"
    }
   ],
   "source": [
    "xb = np.random.normal(0,1,(30,50,20))\n",
    "yb = np.random.normal(0,1,xb.shape)\n",
    "start_time = timeit.default_timer()\n",
    "zb = xb * yb \n",
    "end_time = timeit.default_timer()\n",
    "elapsed_implicit = end_time-start_time\n",
    "print(\"Took %s \" % (elapsed_implicit,))"
   ]
  },
  {
   "cell_type": "code",
   "execution_count": 7,
   "metadata": {
    "lines_to_next_cell": 0,
    "pycharm": {
     "is_executing": false
    }
   },
   "outputs": [
    {
     "name": "stdout",
     "text": [
      "Took 0.021021s which is 78.774313 times longer!\n"
     ],
     "output_type": "stream"
    }
   ],
   "source": [
    "s = xb.shape\n",
    "start_time = timeit.default_timer()\n",
    "zbloop = np.empty_like(xb)\n",
    "for i in range(s[0]):\n",
    "    for j in range(s[1]):\n",
    "        for k in range(s[2]):\n",
    "            zbloop[i,j,k]=xb[i,j,k] * yb[i,j,k]\n",
    "end_time = timeit.default_timer()            \n",
    "elapsed_explicit = end_time-start_time\n",
    "print(\"Took %fs which is %f times longer!\" %(elapsed_explicit, elapsed_explicit/elapsed_implicit))"
   ]
  },
  {
   "cell_type": "markdown",
   "metadata": {},
   "source": [
    "As you can see the difference is of the order of  hundreds!  That is the main reason you shoudl become fluent in tensor operations."
   ]
  },
  {
   "cell_type": "markdown",
   "metadata": {},
   "source": [
    "Similarly we can apply a numpy function to every element of the tensor just by calling it with tensor argument:"
   ]
  },
  {
   "cell_type": "markdown",
   "metadata": {},
   "source": [
    "$$\\forall_{ijk}\\quad s_{ijk} = \\sin(x_{ijk})$$ "
   ]
  },
  {
   "cell_type": "code",
   "execution_count": 8,
   "metadata": {
    "pycharm": {
     "is_executing": false
    }
   },
   "outputs": [
    {
     "name": "stdout",
     "text": [
      "Wall time: 0 ns\n"
     ],
     "output_type": "stream"
    }
   ],
   "source": [
    "%time s = np.sin(x)"
   ]
  },
  {
   "cell_type": "markdown",
   "metadata": {},
   "source": [
    "Please compare yourself the time of the execution of this operation to an explicit loop. "
   ]
  },
  {
   "cell_type": "markdown",
   "metadata": {},
   "source": [
    "You can also use a scalar argument in tensor operations with the common sense interpretation:"
   ]
  },
  {
   "cell_type": "code",
   "execution_count": 9,
   "metadata": {
    "pycharm": {
     "is_executing": false
    }
   },
   "outputs": [],
   "source": [
    "grumpy = img.imread(\"GrumpyCat.jpg\")"
   ]
  },
  {
   "cell_type": "code",
   "execution_count": 10,
   "metadata": {
    "pycharm": {
     "is_executing": false
    }
   },
   "outputs": [],
   "source": [
    "normalized_grumpy = grumpy/255"
   ]
  },
  {
   "cell_type": "markdown",
   "metadata": {},
   "source": [
    "## Reduction"
   ]
  },
  {
   "cell_type": "markdown",
   "metadata": {},
   "source": [
    "Another common operations are  reductions. Those are the functions that can be applied to a subset of dimensions \"reducing\" them  to a single number. Using our freshly acquired skills in array manipulations we will build an array where every column will contain 1000 numbers draw from a different distribution. "
   ]
  },
  {
   "cell_type": "code",
   "execution_count": 11,
   "metadata": {
    "pycharm": {
     "is_executing": false
    }
   },
   "outputs": [
    {
     "data": {
      "text/plain": "(1000, 3)"
     },
     "metadata": {},
     "output_type": "execute_result",
     "execution_count": 11
    }
   ],
   "source": [
    "n = 1000\n",
    "d1 = np.random.normal(0,1, n)\n",
    "d2 = np.random.normal(1,0.5, n)\n",
    "d3 =np.random.uniform(0,1,n)\n",
    "data = np.stack((d1,d2,d3), axis=1)\n",
    "data.shape"
   ]
  },
  {
   "cell_type": "markdown",
   "metadata": {},
   "source": [
    "A common reduction operation is sum. Without any additional parameters sum sums all the element of the array"
   ]
  },
  {
   "cell_type": "code",
   "execution_count": 12,
   "metadata": {
    "pycharm": {
     "is_executing": false
    }
   },
   "outputs": [
    {
     "data": {
      "text/plain": "1508.4070224525453"
     },
     "metadata": {},
     "output_type": "execute_result",
     "execution_count": 12
    }
   ],
   "source": [
    "np.sum(data)"
   ]
  },
  {
   "cell_type": "markdown",
   "metadata": {},
   "source": [
    "But we can specify the dimension(s) along which the reduction operation will be applied. "
   ]
  },
  {
   "cell_type": "code",
   "execution_count": 13,
   "metadata": {
    "pycharm": {
     "is_executing": false
    }
   },
   "outputs": [
    {
     "data": {
      "text/plain": "(1000,)"
     },
     "metadata": {},
     "output_type": "execute_result",
     "execution_count": 13
    }
   ],
   "source": [
    "row_sum = np.sum(data, axis=1)\n",
    "row_sum.shape"
   ]
  },
  {
   "cell_type": "markdown",
   "metadata": {},
   "source": [
    "As we can see the dimension 1 was \"reduced\". \n",
    "\n",
    "In the same way we can calculate the mean of every column:"
   ]
  },
  {
   "cell_type": "code",
   "execution_count": 14,
   "metadata": {
    "pycharm": {
     "is_executing": false
    }
   },
   "outputs": [
    {
     "data": {
      "text/plain": "array([0.00760306, 0.99573751, 0.50506646])"
     },
     "metadata": {},
     "output_type": "execute_result",
     "execution_count": 14
    }
   ],
   "source": [
    "np.mean(data, axis=0)"
   ]
  },
  {
   "cell_type": "markdown",
   "metadata": {},
   "source": [
    "or standard deviation"
   ]
  },
  {
   "cell_type": "code",
   "execution_count": 15,
   "metadata": {
    "pycharm": {
     "is_executing": false
    }
   },
   "outputs": [
    {
     "data": {
      "text/plain": "array([1.00578399, 0.49083516, 0.28899063])"
     },
     "metadata": {},
     "output_type": "execute_result",
     "execution_count": 15
    }
   ],
   "source": [
    "np.std(data, axis=0)"
   ]
  },
  {
   "cell_type": "markdown",
   "metadata": {},
   "source": [
    "We can reduce more then one dimension at the time. Below we calculate the mean value of each chanel in grumpy"
   ]
  },
  {
   "cell_type": "code",
   "execution_count": 16,
   "metadata": {
    "pycharm": {
     "is_executing": false
    }
   },
   "outputs": [
    {
     "data": {
      "text/plain": "array([117.03265727, 103.90124729, 105.09348518])"
     },
     "metadata": {},
     "output_type": "execute_result",
     "execution_count": 16
    }
   ],
   "source": [
    "np.mean(grumpy, axis=(0,1))"
   ]
  },
  {
   "cell_type": "markdown",
   "metadata": {},
   "source": [
    "or max and min  values"
   ]
  },
  {
   "cell_type": "code",
   "execution_count": 17,
   "metadata": {
    "pycharm": {
     "is_executing": false
    }
   },
   "outputs": [
    {
     "data": {
      "text/plain": "array([0, 0, 0], dtype=uint8)"
     },
     "metadata": {},
     "output_type": "execute_result",
     "execution_count": 17
    }
   ],
   "source": [
    "np.min(grumpy, axis=(0,1))"
   ]
  },
  {
   "cell_type": "code",
   "execution_count": 18,
   "metadata": {
    "pycharm": {
     "is_executing": false
    }
   },
   "outputs": [
    {
     "data": {
      "text/plain": "array([255, 255, 255], dtype=uint8)"
     },
     "metadata": {},
     "output_type": "execute_result",
     "execution_count": 18
    }
   ],
   "source": [
    "np.max(grumpy, axis=(0,1))"
   ]
  },
  {
   "cell_type": "markdown",
   "metadata": {},
   "source": [
    "## Contractions -- inner product"
   ]
  },
  {
   "cell_type": "markdown",
   "metadata": {},
   "source": [
    "Another class of operations are contraction. In contraction we sum over two dimensions of a product of two arrays. The examples include the dot (scalar) product"
   ]
  },
  {
   "cell_type": "markdown",
   "metadata": {},
   "source": [
    "$$ x\\cdot y =\\sum_{i} x_{i} \\cdot y_{i}$$ "
   ]
  },
  {
   "cell_type": "markdown",
   "metadata": {},
   "source": [
    "matrix vector multiplication:"
   ]
  },
  {
   "cell_type": "markdown",
   "metadata": {},
   "source": [
    "$$ v_j =\\sum_{i} A_{ji} \\cdot w_{i} \\quad \\forall_{i}$$ "
   ]
  },
  {
   "cell_type": "markdown",
   "metadata": {},
   "source": [
    "and matrix multiplication"
   ]
  },
  {
   "cell_type": "markdown",
   "metadata": {},
   "source": [
    "$$   z_{ij}=\\sum_{k} x_{ik} \\cdot y_{kj} \\quad \\forall_{ij}$$ "
   ]
  },
  {
   "cell_type": "markdown",
   "metadata": {},
   "source": [
    "`numpy` has special operators for both operations but we can use more general `inner` and `tensordot`. \n",
    "\n",
    "`inner` takes two arrays and contracts last dimensions in each of them. That means that the sizes of those dimensions must match. \n",
    "\n",
    "When both arrays are vectors this is normal scalar product:"
   ]
  },
  {
   "cell_type": "code",
   "execution_count": 19,
   "metadata": {
    "pycharm": {
     "is_executing": false
    }
   },
   "outputs": [
    {
     "data": {
      "text/plain": "-0.3445058287709808"
     },
     "metadata": {},
     "output_type": "execute_result",
     "execution_count": 19
    }
   ],
   "source": [
    "x = np.random.normal(0,1,10)\n",
    "y = np.ones_like(x)\n",
    "np.inner(x,y)"
   ]
  },
  {
   "cell_type": "markdown",
   "metadata": {},
   "source": [
    "When first is  a matrix and other a vector this is matrix vector multiplication:"
   ]
  },
  {
   "cell_type": "code",
   "execution_count": 20,
   "metadata": {
    "pycharm": {
     "is_executing": false
    }
   },
   "outputs": [
    {
     "data": {
      "text/plain": "array([ 1., -1.])"
     },
     "metadata": {},
     "output_type": "execute_result",
     "execution_count": 20
    }
   ],
   "source": [
    "m = np.asarray([[1,-1],[-1,1]])\n",
    "v = np.array([0.5, -0.5])\n",
    "np.inner(m,v)"
   ]
  },
  {
   "cell_type": "markdown",
   "metadata": {},
   "source": [
    "Can you tell what the operation below is doing? "
   ]
  },
  {
   "cell_type": "code",
   "execution_count": 40,
   "metadata": {
    "pycharm": {
     "is_executing": false
    }
   },
   "outputs": [
    {
     "name": "stdout",
     "text": [
      "[[  0.     0.     0.   ... 117.84 110.83 112.04]\n [  0.     0.     0.   ... 115.84 108.83 111.04]\n [  0.     0.     0.   ... 115.84 107.83 110.34]\n ...\n [  0.     0.     0.   ... 185.05 186.05 186.05]\n [  0.     0.     0.   ... 180.05 181.05 183.05]\n [  0.     0.     0.   ... 179.05 179.05 179.76]]\n"
     ],
     "output_type": "stream"
    }
   ],
   "source": [
    "w =np.asarray([0.3, 0.59, 0.11])\n",
    "G = np.inner(grumpy,w)\n",
    "print(G)"
   ]
  },
  {
   "cell_type": "markdown",
   "metadata": {},
   "source": [
    "Similar to `inner` is `dot`.Please check out its documentatio [here](https://docs.scipy.org/doc/numpy/reference/generated/numpy.dot.html). "
   ]
  },
  {
   "cell_type": "markdown",
   "metadata": {},
   "source": [
    "Matrix multiplication requires contraction of last and first dimension. That's why it's more convenient to use `tensordot`"
   ]
  },
  {
   "cell_type": "code",
   "execution_count": 22,
   "metadata": {
    "pycharm": {
     "is_executing": false
    }
   },
   "outputs": [],
   "source": [
    "A = np.random.normal(0,1,(2,3))\n",
    "B = np.random.normal(0,2,(3,4))\n",
    "C = np.tensordot(A,B,1)"
   ]
  },
  {
   "cell_type": "code",
   "execution_count": 23,
   "metadata": {
    "pycharm": {
     "is_executing": false
    }
   },
   "outputs": [
    {
     "name": "stdout",
     "text": [
      "(2, 4)\n"
     ],
     "output_type": "stream"
    },
    {
     "data": {
      "text/plain": "array([[-7.46083223, -0.06284435,  2.3447464 , -0.85201796],\n       [ 2.27517279,  0.22029371, -0.65500151,  1.58621055]])"
     },
     "metadata": {},
     "output_type": "execute_result",
     "execution_count": 23
    }
   ],
   "source": [
    "print(C.shape)\n",
    "C"
   ]
  },
  {
   "cell_type": "markdown",
   "metadata": {},
   "source": [
    "If we want to do matrix multiplication it's better to use \n",
    "`matmul` function which is described [here](https://docs.scipy.org/doc/numpy/reference/generated/numpy.matmul.html#numpy.matmul). This function can be invokde using operator `@`"
   ]
  },
  {
   "cell_type": "code",
   "execution_count": 24,
   "metadata": {
    "pycharm": {
     "is_executing": false
    }
   },
   "outputs": [
    {
     "data": {
      "text/plain": "array([[-7.46083223, -0.06284435,  2.3447464 , -0.85201796],\n       [ 2.27517279,  0.22029371, -0.65500151,  1.58621055]])"
     },
     "metadata": {},
     "output_type": "execute_result",
     "execution_count": 24
    }
   ],
   "source": [
    "A@B"
   ]
  },
  {
   "cell_type": "markdown",
   "metadata": {},
   "source": [
    "`tensordot(A,B,n)` is more general contracts last `n` dimensions of array `A` with first `n` dimensions of array `B`. "
   ]
  },
  {
   "cell_type": "code",
   "execution_count": 25,
   "metadata": {
    "pycharm": {
     "is_executing": false
    }
   },
   "outputs": [
    {
     "name": "stdout",
     "text": [
      "()\n"
     ],
     "output_type": "stream"
    },
    {
     "data": {
      "text/plain": "array(-1.09103697)"
     },
     "metadata": {},
     "output_type": "execute_result",
     "execution_count": 25
    }
   ],
   "source": [
    "A2 = np.random.normal(0,1,(4,3))\n",
    "B2 = np.random.normal(0,2,(4,3))\n",
    "C2 = np.tensordot(A2,B2,2)\n",
    "print(C2.shape)\n",
    "C2"
   ]
  },
  {
   "cell_type": "markdown",
   "metadata": {},
   "source": [
    "In the above expression `C2` is calculated as: \n",
    "$$ C = \\sum_{ij}A_{ij} B_{ij}$$"
   ]
  },
  {
   "cell_type": "markdown",
   "metadata": {},
   "source": [
    "We can also specify which dimensions will be contracted, by providing lists of dimensions in each array:"
   ]
  },
  {
   "cell_type": "code",
   "execution_count": 26,
   "metadata": {
    "pycharm": {
     "is_executing": false
    }
   },
   "outputs": [
    {
     "name": "stdout",
     "text": [
      "()\n"
     ],
     "output_type": "stream"
    },
    {
     "data": {
      "text/plain": "array(3.0107933)"
     },
     "metadata": {},
     "output_type": "execute_result",
     "execution_count": 26
    }
   ],
   "source": [
    "A3 = np.random.normal(0,1,(4,3))\n",
    "B3 = np.random.normal(0,2,(3,4))\n",
    "C3 = np.tensordot(A3,B3,[[0,1], [1,0]])\n",
    "print(C3.shape)\n",
    "C3"
   ]
  },
  {
   "cell_type": "markdown",
   "metadata": {},
   "source": [
    "Which corresponds to \n",
    "$$ C = \\sum_{ij}A_{ij} B_{ji}$$\n",
    "which is more intuitive."
   ]
  },
  {
   "cell_type": "markdown",
   "metadata": {},
   "source": [
    "You have a matrix 3x4 matrix W and a set of N 4-vectors in a form of array X of shape (N,4). How to produce an array of shape (N,3) where each row is the product of matrix W and corresponding row of X ? "
   ]
  },
  {
   "cell_type": "markdown",
   "metadata": {},
   "source": [
    "## Outer product"
   ]
  },
  {
   "cell_type": "markdown",
   "metadata": {},
   "source": [
    "What happens when we request zero dimension contraction in `tensordot`? For two vectors this should correspond to\n",
    "$$ z_{ij} = x_i \\cdot y_j\\quad \\forall_{ij} $$\n",
    "Let's check this. "
   ]
  },
  {
   "cell_type": "code",
   "execution_count": 27,
   "metadata": {
    "pycharm": {
     "is_executing": false
    }
   },
   "outputs": [
    {
     "name": "stdout",
     "text": [
      "(4, 5)\n"
     ],
     "output_type": "stream"
    },
    {
     "data": {
      "text/plain": "array([[ 0,  0,  0,  0,  0],\n       [ 0,  1,  2,  3,  4],\n       [ 0,  2,  4,  6,  8],\n       [ 0,  3,  6,  9, 12]])"
     },
     "metadata": {},
     "output_type": "execute_result",
     "execution_count": 27
    }
   ],
   "source": [
    "x = np.arange(4)\n",
    "y = np.arange(5)\n",
    "z  = np.tensordot(x,y,0)\n",
    "print(z.shape)\n",
    "z"
   ]
  },
  {
   "cell_type": "markdown",
   "metadata": {},
   "source": [
    "This operation is called outer or tensor product. We can achieve same result with function `outer`"
   ]
  },
  {
   "cell_type": "code",
   "execution_count": 28,
   "metadata": {
    "pycharm": {
     "is_executing": false
    }
   },
   "outputs": [
    {
     "name": "stdout",
     "text": [
      "(4, 5)\n"
     ],
     "output_type": "stream"
    },
    {
     "data": {
      "text/plain": "array([[ 0,  0,  0,  0,  0],\n       [ 0,  1,  2,  3,  4],\n       [ 0,  2,  4,  6,  8],\n       [ 0,  3,  6,  9, 12]])"
     },
     "metadata": {},
     "output_type": "execute_result",
     "execution_count": 28
    }
   ],
   "source": [
    "x = np.arange(4)\n",
    "y = np.arange(5)\n",
    "z  = np.outer(x,y)\n",
    "print(z.shape)\n",
    "z"
   ]
  },
  {
   "cell_type": "markdown",
   "metadata": {},
   "source": [
    "However those two functions behave the same same only for 1-dimensional arrays. "
   ]
  },
  {
   "cell_type": "markdown",
   "metadata": {},
   "source": [
    "## \"Degenerate\" dimensions\n",
    "\n",
    "This a technical but a quite important point. It concerns dimensions with size one. While it may seem that such dimensions are spurious or \"degenerate\" they nevertheless change the dimensionality of the array and can impact the result of the operations."
   ]
  },
  {
   "cell_type": "markdown",
   "metadata": {},
   "source": [
    "Let's start by creating a vector"
   ]
  },
  {
   "cell_type": "code",
   "execution_count": 29,
   "metadata": {
    "pycharm": {
     "is_executing": false
    }
   },
   "outputs": [
    {
     "name": "stdout",
     "text": [
      "(4,)\n"
     ],
     "output_type": "stream"
    },
    {
     "data": {
      "text/plain": "array([-0.03326301, -0.71418614, -1.2868607 , -0.37267573])"
     },
     "metadata": {},
     "output_type": "execute_result",
     "execution_count": 29
    }
   ],
   "source": [
    "vector = np.random.normal(0,1,(4,))\n",
    "print(vector.shape)\n",
    "vector"
   ]
  },
  {
   "cell_type": "markdown",
   "metadata": {},
   "source": [
    "and reshape it to one row matrix "
   ]
  },
  {
   "cell_type": "code",
   "execution_count": 30,
   "metadata": {
    "pycharm": {
     "is_executing": false
    }
   },
   "outputs": [
    {
     "name": "stdout",
     "text": [
      "(1, 4)\n"
     ],
     "output_type": "stream"
    },
    {
     "data": {
      "text/plain": "array([[-0.03326301, -0.71418614, -1.2868607 , -0.37267573]])"
     },
     "metadata": {},
     "output_type": "execute_result",
     "execution_count": 30
    }
   ],
   "source": [
    "vector_row = np.reshape(vector,(1,4))\n",
    "print(vector_row.shape)\n",
    "vector_row"
   ]
  },
  {
   "cell_type": "markdown",
   "metadata": {},
   "source": [
    "and one column matrix:"
   ]
  },
  {
   "cell_type": "code",
   "execution_count": 31,
   "metadata": {
    "pycharm": {
     "is_executing": false
    }
   },
   "outputs": [
    {
     "name": "stdout",
     "text": [
      "(4, 1)\n"
     ],
     "output_type": "stream"
    },
    {
     "data": {
      "text/plain": "array([[-0.03326301],\n       [-0.71418614],\n       [-1.2868607 ],\n       [-0.37267573]])"
     },
     "metadata": {},
     "output_type": "execute_result",
     "execution_count": 31
    }
   ],
   "source": [
    "vector_column = np.reshape(vector,(4,1))\n",
    "print(vector_column.shape)\n",
    "vector_column"
   ]
  },
  {
   "cell_type": "markdown",
   "metadata": {},
   "source": [
    "Now make some experiments:"
   ]
  },
  {
   "cell_type": "code",
   "execution_count": 32,
   "metadata": {
    "pycharm": {
     "is_executing": false
    }
   },
   "outputs": [
    {
     "data": {
      "text/plain": "2.306065926125458"
     },
     "metadata": {},
     "output_type": "execute_result",
     "execution_count": 32
    }
   ],
   "source": [
    "np.inner(vector, vector)"
   ]
  },
  {
   "cell_type": "code",
   "execution_count": 33,
   "metadata": {
    "pycharm": {
     "is_executing": false
    }
   },
   "outputs": [
    {
     "data": {
      "text/plain": "array([[2.30606593]])"
     },
     "metadata": {},
     "output_type": "execute_result",
     "execution_count": 33
    }
   ],
   "source": [
    "np.inner(vector_row, vector_row)"
   ]
  },
  {
   "cell_type": "code",
   "execution_count": 34,
   "metadata": {
    "pycharm": {
     "is_executing": false
    }
   },
   "outputs": [
    {
     "data": {
      "text/plain": "array([[1.10642792e-03, 2.37559816e-02, 4.28048620e-02, 1.23963169e-02],\n       [2.37559816e-02, 5.10061840e-01, 9.19058074e-01, 2.66159837e-01],\n       [4.28048620e-02, 9.19058074e-01, 1.65601046e+00, 4.79581745e-01],\n       [1.23963169e-02, 2.66159837e-01, 4.79581745e-01, 1.38887197e-01]])"
     },
     "metadata": {},
     "output_type": "execute_result",
     "execution_count": 34
    }
   ],
   "source": [
    "np.inner(vector_column, vector_column)"
   ]
  },
  {
   "cell_type": "markdown",
   "metadata": {},
   "source": [
    "This actually the outer product:"
   ]
  },
  {
   "cell_type": "code",
   "execution_count": 35,
   "metadata": {
    "pycharm": {
     "is_executing": false
    }
   },
   "outputs": [
    {
     "data": {
      "text/plain": "array([[1.10642792e-03, 2.37559816e-02, 4.28048620e-02, 1.23963169e-02],\n       [2.37559816e-02, 5.10061840e-01, 9.19058074e-01, 2.66159837e-01],\n       [4.28048620e-02, 9.19058074e-01, 1.65601046e+00, 4.79581745e-01],\n       [1.23963169e-02, 2.66159837e-01, 4.79581745e-01, 1.38887197e-01]])"
     },
     "metadata": {},
     "output_type": "execute_result",
     "execution_count": 35
    }
   ],
   "source": [
    "np.outer(vector, vector)"
   ]
  },
  {
   "cell_type": "markdown",
   "metadata": {},
   "source": [
    "The only two other combinations that will match are: "
   ]
  },
  {
   "cell_type": "code",
   "execution_count": 36,
   "metadata": {
    "pycharm": {
     "is_executing": false
    }
   },
   "outputs": [
    {
     "data": {
      "text/plain": "array([2.30606593])"
     },
     "metadata": {},
     "output_type": "execute_result",
     "execution_count": 36
    }
   ],
   "source": [
    "np.inner(vector, vector_row)"
   ]
  },
  {
   "cell_type": "code",
   "execution_count": 37,
   "metadata": {
    "pycharm": {
     "is_executing": false
    }
   },
   "outputs": [
    {
     "data": {
      "text/plain": "array([2.30606593])"
     },
     "metadata": {},
     "output_type": "execute_result",
     "execution_count": 37
    }
   ],
   "source": [
    "np.inner(vector_row, vector)"
   ]
  },
  {
   "cell_type": "markdown",
   "metadata": {},
   "source": [
    "Please explain the results of all the above operations. Write down using indices what each operation actually does. "
   ]
  }
 ],
 "metadata": {
  "kernelspec": {
   "display_name": "Python 3",
   "language": "python",
   "name": "python3"
  },
  "language_info": {
   "codemirror_mode": {
    "name": "ipython",
    "version": 3
   },
   "file_extension": ".py",
   "mimetype": "text/x-python",
   "name": "python",
   "nbconvert_exporter": "python",
   "pygments_lexer": "ipython3",
   "version": "3.6.6"
  },
  "pycharm": {
   "stem_cell": {
    "cell_type": "raw",
    "source": [],
    "metadata": {
     "collapsed": false
    }
   }
  }
 },
 "nbformat": 4,
 "nbformat_minor": 4
}