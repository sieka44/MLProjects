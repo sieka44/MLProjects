{
 "nbformat": 4,
 "nbformat_minor": 0,
 "metadata": {
  "colab": {
   "name": "CIFAR10_Pretrain.ipynb",
   "provenance": [],
   "collapsed_sections": []
  },
  "kernelspec": {
   "name": "python3",
   "language": "python",
   "display_name": "Python 3"
  },
  "accelerator": "GPU",
  "pycharm": {
   "stem_cell": {
    "cell_type": "raw",
    "source": [],
    "metadata": {
     "collapsed": false
    }
   }
  }
 },
 "cells": [
  {
   "cell_type": "code",
   "metadata": {
    "id": "Djq5H5QSK6hc",
    "colab_type": "code",
    "pycharm": {
     "is_executing": false
    },
    "colab": {}
   },
   "source": [
    "import keras\n",
    "keras.__version__\n",
    "from keras.applications import VGG16\n",
    "from keras import layers\n",
    "from keras import models\n",
    "from keras.datasets import cifar10\n",
    "from keras.utils import to_categorical\n",
    "from keras.optimizers import Adam"
   ],
   "execution_count": 0,
   "outputs": []
  },
  {
   "cell_type": "code",
   "metadata": {
    "id": "cLjbWVSwLRAM",
    "colab_type": "code",
    "pycharm": {
     "is_executing": false
    },
    "outputId": "b5d39534-0e62-43a2-906b-e46baf89bb25",
    "colab": {
     "base_uri": "https://localhost:8080/",
     "height": 34
    },
    "executionInfo": {
     "status": "ok",
     "timestamp": 1577716496999,
     "user_tz": -60,
     "elapsed": 1208,
     "user": {
      "displayName": "sieka44",
      "photoUrl": "",
      "userId": "07770207910902157121"
     }
    }
   },
   "source": [
    "\n",
    "\n",
    "(train_images, train_labels), (test_images, test_labels) = cifar10.load_data()\n",
    "print(\"Download done!\")"
   ],
   "execution_count": 197,
   "outputs": [
    {
     "output_type": "stream",
     "text": [
      "Download done!\n"
     ],
     "name": "stdout"
    }
   ]
  },
  {
   "cell_type": "code",
   "metadata": {
    "id": "f1l1_b4FLnAx",
    "colab_type": "code",
    "outputId": "dba16d12-5a0b-4ce3-99b7-02a8dc57503b",
    "pycharm": {
     "is_executing": false
    },
    "colab": {
     "base_uri": "https://localhost:8080/",
     "height": 283
    },
    "executionInfo": {
     "status": "ok",
     "timestamp": 1577716497002,
     "user_tz": -60,
     "elapsed": 1183,
     "user": {
      "displayName": "sieka44",
      "photoUrl": "",
      "userId": "07770207910902157121"
     }
    }
   },
   "source": [
    "import matplotlib.pyplot as plt\n",
    "%matplotlib inline\n",
    "picture_id = 1\n",
    "digit = train_images[picture_id]\n",
    "plt.imshow(digit, cmap=plt.cm.binary)\n",
    "print(train_labels[picture_id])\n",
    "plt.show()"
   ],
   "execution_count": 1,
   "outputs": [
    {
     "traceback": [
      "\u001b[1;31m---------------------------------------------------------------------------\u001b[0m",
      "\u001b[1;31mNameError\u001b[0m                                 Traceback (most recent call last)",
      "\u001b[1;32m<ipython-input-1-52d745354c9f>\u001b[0m in \u001b[0;36m<module>\u001b[1;34m\u001b[0m\n\u001b[0;32m      2\u001b[0m \u001b[0mget_ipython\u001b[0m\u001b[1;33m(\u001b[0m\u001b[1;33m)\u001b[0m\u001b[1;33m.\u001b[0m\u001b[0mrun_line_magic\u001b[0m\u001b[1;33m(\u001b[0m\u001b[1;34m'matplotlib'\u001b[0m\u001b[1;33m,\u001b[0m \u001b[1;34m'inline'\u001b[0m\u001b[1;33m)\u001b[0m\u001b[1;33m\u001b[0m\u001b[1;33m\u001b[0m\u001b[0m\n\u001b[0;32m      3\u001b[0m \u001b[0mpicture_id\u001b[0m \u001b[1;33m=\u001b[0m \u001b[1;36m1\u001b[0m\u001b[1;33m\u001b[0m\u001b[1;33m\u001b[0m\u001b[0m\n\u001b[1;32m----> 4\u001b[1;33m \u001b[0mdigit\u001b[0m \u001b[1;33m=\u001b[0m \u001b[0mtrain_images\u001b[0m\u001b[1;33m[\u001b[0m\u001b[0mpicture_id\u001b[0m\u001b[1;33m]\u001b[0m\u001b[1;33m\u001b[0m\u001b[1;33m\u001b[0m\u001b[0m\n\u001b[0m\u001b[0;32m      5\u001b[0m \u001b[0mplt\u001b[0m\u001b[1;33m.\u001b[0m\u001b[0mimshow\u001b[0m\u001b[1;33m(\u001b[0m\u001b[0mdigit\u001b[0m\u001b[1;33m,\u001b[0m \u001b[0mcmap\u001b[0m\u001b[1;33m=\u001b[0m\u001b[0mplt\u001b[0m\u001b[1;33m.\u001b[0m\u001b[0mcm\u001b[0m\u001b[1;33m.\u001b[0m\u001b[0mbinary\u001b[0m\u001b[1;33m)\u001b[0m\u001b[1;33m\u001b[0m\u001b[1;33m\u001b[0m\u001b[0m\n\u001b[0;32m      6\u001b[0m \u001b[0mprint\u001b[0m\u001b[1;33m(\u001b[0m\u001b[0mtrain_labels\u001b[0m\u001b[1;33m[\u001b[0m\u001b[0mpicture_id\u001b[0m\u001b[1;33m]\u001b[0m\u001b[1;33m)\u001b[0m\u001b[1;33m\u001b[0m\u001b[1;33m\u001b[0m\u001b[0m\n",
      "\u001b[1;31mNameError\u001b[0m: name 'train_images' is not defined"
     ],
     "ename": "NameError",
     "evalue": "name 'train_images' is not defined",
     "output_type": "error"
    }
   ]
  },
  {
   "cell_type": "code",
   "metadata": {
    "id": "76yjbnbJLjsk",
    "colab_type": "code",
    "pycharm": {
     "is_executing": false
    },
    "colab": {}
   },
   "source": [
    "valid_size = 2000\n",
    "(validation_images, train_images) = train_images[:valid_size], train_images[valid_size:]\n",
    "(validation_labels, train_labels) = train_labels[:valid_size], train_labels[valid_size:]\n",
    "train_images = train_images.reshape((50000-valid_size, 32, 32, 3))\n",
    "train_images = train_images.astype('float32') / 255\n",
    "\n",
    "test_images = test_images.reshape((10000, 32, 32, 3))\n",
    "test_images = test_images.astype('float32') / 255\n",
    "\n",
    "train_labels = to_categorical(train_labels)\n",
    "test_labels = to_categorical(test_labels)\n",
    "validation_labels = to_categorical(validation_labels)"
   ],
   "execution_count": 0,
   "outputs": []
  },
  {
   "cell_type": "code",
   "metadata": {
    "pycharm": {
     "name": "#%%\n",
     "is_executing": false
    },
    "id": "UDTql2Z80STd",
    "colab_type": "code",
    "colab": {}
   },
   "source": [
    "def count_up(curr_labels):\n",
    "    tmp = curr_labels.transpose()\n",
    "    summary = []\n",
    "    for i in range(10):\n",
    "        summary.append(tmp[i].sum())\n",
    "        \n",
    "    return summary"
   ],
   "execution_count": 0,
   "outputs": []
  },
  {
   "cell_type": "code",
   "metadata": {
    "id": "rIJilTuvRnDY",
    "colab_type": "code",
    "pycharm": {
     "is_executing": false
    },
    "colab": {}
   },
   "source": [
    "conv_base = VGG16(weights='imagenet',\n",
    "                  include_top=False,\n",
    "                  input_shape=(32, 32, 3))\n",
    "# conv_base.trainable = False\n",
    "\n",
    "model = models.Sequential()\n",
    "model.add(conv_base)\n",
    "model.add(layers.Flatten())\n",
    "model.add(layers.Dense(512, activation='relu'))\n",
    "model.add(layers.Dropout(0.5))\n",
    "model.add(layers.Dense(128, activation='relu'))\n",
    "model.add(layers.Dropout(0.5))\n",
    "model.add(layers.Dense(10, activation='softmax'))\n"
   ],
   "execution_count": 0,
   "outputs": []
  },
  {
   "cell_type": "code",
   "metadata": {
    "id": "PUc8wM9gPbbc",
    "colab_type": "code",
    "colab": {}
   },
   "source": [
    "adaam = Adam(lr=.0000001)\n",
    "model.compile(optimizer=adaam,\n",
    "                  loss='categorical_crossentropy',\n",
    "                  metrics=['accuracy'])"
   ],
   "execution_count": 0,
   "outputs": []
  },
  {
   "cell_type": "code",
   "metadata": {
    "id": "Lr0xkEliYc-6",
    "colab_type": "code",
    "pycharm": {
     "is_executing": false
    },
    "colab": {}
   },
   "source": [
    "conv_base.summary()\n",
    "model.summary()"
   ],
   "execution_count": 0,
   "outputs": []
  },
  {
   "cell_type": "code",
   "metadata": {
    "id": "5g5YgsBNMMtN",
    "colab_type": "code",
    "colab": {}
   },
   "source": [
    "conv_base.trainable = False\n",
    "\n",
    "# set_trainable = False\n",
    "# for layer in conv_base.layers:\n",
    "#     if \"block5_conv\" in layer.name:\n",
    "#         set_trainable = True\n",
    "#     if set_trainable:\n",
    "#         layer.trainable = True\n",
    "#     else:\n",
    "#         layer.trainable = False"
   ],
   "execution_count": 0,
   "outputs": []
  },
  {
   "cell_type": "code",
   "metadata": {
    "id": "pdgz18QPNOVr",
    "colab_type": "code",
    "outputId": "57d36a84-703c-45d4-bfbf-ccf3730eef88",
    "pycharm": {
     "is_executing": false
    },
    "colab": {
     "base_uri": "https://localhost:8080/",
     "height": 168
    },
    "executionInfo": {
     "status": "ok",
     "timestamp": 1577716836573,
     "user_tz": -60,
     "elapsed": 18521,
     "user": {
      "displayName": "sieka44",
      "photoUrl": "",
      "userId": "07770207910902157121"
     }
    }
   },
   "source": [
    "epoch = 4\n",
    "model_hist = model.fit(train_images, train_labels,\n",
    "          epochs=epoch, batch_size=1024, validation_data=(validation_images,validation_labels))"
   ],
   "execution_count": 216,
   "outputs": [
    {
     "output_type": "stream",
     "text": [
      "Train on 48000 samples, validate on 2000 samples\n",
      "Epoch 1/4\n",
      "48000/48000 [==============================] - 7s 139us/step - loss: 0.0085 - acc: 0.9984 - val_loss: 4.0085 - val_acc: 0.7485\n",
      "Epoch 2/4\n",
      "48000/48000 [==============================] - 4s 76us/step - loss: 0.0088 - acc: 0.9983 - val_loss: 4.0082 - val_acc: 0.7485\n",
      "Epoch 3/4\n",
      "48000/48000 [==============================] - 4s 77us/step - loss: 0.0086 - acc: 0.9984 - val_loss: 4.0081 - val_acc: 0.7485\n",
      "Epoch 4/4\n",
      "48000/48000 [==============================] - 4s 76us/step - loss: 0.0087 - acc: 0.9982 - val_loss: 4.0080 - val_acc: 0.7485\n"
     ],
     "name": "stdout"
    }
   ]
  },
  {
   "cell_type": "code",
   "metadata": {
    "id": "AK7GvOCaUwp9",
    "colab_type": "code",
    "pycharm": {
     "is_executing": false
    },
    "colab": {}
   },
   "source": [
    "import matplotlib.pyplot as plt\n",
    "\n",
    "epochs = range(0, epoch)\n",
    "train_loss = model_hist.history['loss']\n",
    "val_loss = model_hist.history['val_loss']\n",
    "\n",
    "plt.plot(epochs, val_loss, 'b+', label='Validation')\n",
    "plt.plot(epochs, train_loss, 'bo', label='training')\n",
    "plt.xlabel('Epochs')\n",
    "plt.ylabel('Validation loss')\n",
    "plt.legend()\n",
    "\n",
    "plt.show()"
   ],
   "execution_count": 0,
   "outputs": []
  },
  {
   "cell_type": "code",
   "metadata": {
    "id": "ZSr5gnDLNRo7",
    "colab_type": "code",
    "outputId": "f5ba0534-16df-48c0-fffa-8ff9219bbb69",
    "pycharm": {
     "is_executing": false
    },
    "colab": {
     "base_uri": "https://localhost:8080/",
     "height": 67
    },
    "executionInfo": {
     "status": "ok",
     "timestamp": 1577717301292,
     "user_tz": -60,
     "elapsed": 2891,
     "user": {
      "displayName": "sieka44",
      "photoUrl": "",
      "userId": "07770207910902157121"
     }
    }
   },
   "source": [
    "test_loss, test_acc = model.evaluate(test_images, test_labels)\n",
    "print('test_acc:', test_acc)\n",
    "test_loss"
   ],
   "execution_count": 221,
   "outputs": [
    {
     "output_type": "stream",
     "text": [
      "10000/10000 [==============================] - 2s 241us/step\n",
      "test_acc: 0.8561\n"
     ],
     "name": "stdout"
    },
    {
     "output_type": "execute_result",
     "data": {
      "text/plain": [
       "0.9357943317964673"
      ]
     },
     "metadata": {
      "tags": []
     },
     "execution_count": 221
    }
   ]
  },
  {
   "cell_type": "code",
   "metadata": {
    "id": "L5hrtL1oQ_5l",
    "colab_type": "code",
    "colab": {
     "base_uri": "https://localhost:8080/",
     "height": 34
    },
    "outputId": "1d06a00f-fcc2-4d83-da70-cf37c897cbac",
    "executionInfo": {
     "status": "ok",
     "timestamp": 1577717283560,
     "user_tz": -60,
     "elapsed": 61308,
     "user": {
      "displayName": "sieka44",
      "photoUrl": "",
      "userId": "07770207910902157121"
     }
    }
   },
   "source": [
    "from google.colab import files\n",
    "model.save_weights('./cifar10.h5', overwrite=True)\n",
    "files.download(\"cifar10.h5\")\n",
    "print(\"DONE\")"
   ],
   "execution_count": 220,
   "outputs": [
    {
     "output_type": "stream",
     "text": [
      "DONE\n"
     ],
     "name": "stdout"
    }
   ]
  }
 ]
}