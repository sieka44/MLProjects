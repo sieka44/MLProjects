{
 "cells": [
  {
   "cell_type": "code",
   "execution_count": 118,
   "metadata": {
    "pycharm": {
     "is_executing": false
    }
   },
   "outputs": [],
   "source": [
    "import numpy as np\n",
    "import scipy as sp\n",
    "import scipy.stats as stats\n",
    "\n",
    "import matplotlib.pyplot as plt\n",
    "%matplotlib inline"
   ]
  },
  {
   "cell_type": "code",
   "execution_count": 119,
   "metadata": {
    "pycharm": {
     "is_executing": false
    }
   },
   "outputs": [],
   "source": [
    "import torch \n",
    "import torchvision"
   ]
  },
  {
   "cell_type": "markdown",
   "metadata": {},
   "source": [
    "\n",
    "## Zadanie 1"
   ]
  },
  {
   "cell_type": "markdown",
   "metadata": {},
   "source": [
    "Wytrenuj sieć na danych  z pliku `reg_data_noise.npy`. "
   ]
  },
  {
   "cell_type": "code",
   "execution_count": 120,
   "metadata": {
    "pycharm": {
     "is_executing": false
    }
   },
   "outputs": [
    {
     "name": "stdout",
     "text": [
      "400",
      "\n"
     ],
     "output_type": "stream"
    }
   ],
   "source": [
    "data = np.load('reg_data_noise.npy')\n",
    "print(data.size)"
   ]
  },
  {
   "cell_type": "code",
   "execution_count": 121,
   "metadata": {
    "pycharm": {
     "is_executing": false
    }
   },
   "outputs": [],
   "source": [
    "xs = data[:,0]\n",
    "ys = data[:,1]"
   ]
  },
  {
   "cell_type": "code",
   "execution_count": 122,
   "metadata": {
    "pycharm": {
     "is_executing": false
    }
   },
   "outputs": [
    {
     "data": {
      "text/plain": "<Figure size 432x288 with 1 Axes>",
      "image/png": "[encoded data removed]"
     },
     "metadata": {
      "needs_background": "light"
     },
     "output_type": "display_data"
    }
   ],
   "source": [
    "plt.plot(xs,ys,'.');"
   ]
  },
  {
   "cell_type": "code",
   "execution_count": 123,
   "metadata": {
    "pycharm": {
     "is_executing": false
    }
   },
   "outputs": [],
   "source": [
    "model = torch.nn.Sequential(torch.nn.Linear(1,512),\n",
    "                    torch.nn.ReLU(), torch.nn.Linear(512,1))"
   ]
  },
  {
   "cell_type": "code",
   "execution_count": 124,
   "metadata": {
    "pycharm": {
     "is_executing": false
    }
   },
   "outputs": [],
   "source": [
    "t_xs = torch.from_numpy(xs).view(-1,1)\n",
    "t_ys = torch.from_numpy(ys).view(-1,1)"
   ]
  },
  {
   "cell_type": "code",
   "execution_count": 125,
   "metadata": {
    "pycharm": {
     "is_executing": false
    }
   },
   "outputs": [
    {
     "data": {
      "text/plain": "[<matplotlib.lines.Line2D at 0x9ddcee308>]"
     },
     "metadata": {},
     "output_type": "execute_result",
     "execution_count": 125
    },
    {
     "data": {
      "text/plain": "<Figure size 432x288 with 1 Axes>",
      "image/png": "[encoded data removed]"
     },
     "metadata": {
      "needs_background": "light"
     },
     "output_type": "display_data"
    }
   ],
   "source": [
    "t_out = model(t_xs)\n",
    "\n",
    "plt.plot(xs, t_out.data.view(-1).numpy(),'.')"
   ]
  },
  {
   "cell_type": "code",
   "execution_count": 126,
   "metadata": {
    "pycharm": {
     "is_executing": false
    }
   },
   "outputs": [],
   "source": [
    "dataset = torch.utils.data.TensorDataset(t_xs, t_ys)\n",
    "(train_set, valid_set) = torch.utils.data.random_split(dataset,(160,40))"
   ]
  },
  {
   "cell_type": "code",
   "execution_count": 127,
   "metadata": {
    "pycharm": {
     "is_executing": false
    }
   },
   "outputs": [
    {
     "name": "stdout",
     "text": [
      "80",
      "\n"
     ],
     "output_type": "stream"
    }
   ],
   "source": [
    "size = 80\n",
    "print(size)\n",
    "train_loader = torch.utils.data.DataLoader(train_set,batch_size=size,shuffle=True)"
   ]
  },
  {
   "cell_type": "code",
   "execution_count": 132,
   "metadata": {
    "pycharm": {
     "is_executing": false
    }
   },
   "outputs": [
    {
     "name": "stdout",
     "text": [
      "epoch 0 0.078727 0.080900 ",
      "\n",
      "epoch 1000 0.063812 0.053966 ",
      "\n",
      "epoch 2000 0.053258 0.045817 ",
      "\n",
      "epoch 3000 0.050428 0.040004 ",
      "\n",
      "epoch 4000 0.028377 0.026710 ",
      "\n",
      "epoch 5000 0.028662 0.028742 ",
      "\n",
      "epoch 6000 0.047589 0.045997 ",
      "\n",
      "epoch 7000 0.117758 0.108460 ",
      "\n",
      "epoch 8000 0.030024 0.027326 ",
      "\n",
      "epoch 9000 0.018386 0.019410 ",
      "\n"
     ],
     "output_type": "stream"
    }
   ],
   "source": [
    "optimizer = torch.optim.SGD(model.parameters(),lr =0.1)\n",
    "loss_func = torch.nn.MSELoss()\n",
    "\n",
    "err_train=[]\n",
    "err_valid=[]\n",
    "for epoch in range(10000):    \n",
    "    for datum in train_loader:\n",
    "        optimizer.zero_grad()\n",
    "        (features,target) = datum\n",
    "        pred = model(features)\n",
    "        loss = loss_func(pred, target)\n",
    "        loss.backward()\n",
    "        optimizer.step()\n",
    "    \n",
    "    with torch.no_grad():\n",
    "        vpred  = model(valid_set[:][0])\n",
    "        vloss  = loss_func(vpred,valid_set[:][1])\n",
    "        err_valid.append(vloss)\n",
    "        pred  = model(train_set[:][0])\n",
    "        loss  = loss_func(pred,train_set[:][1])\n",
    "        err_train.append(loss)\n",
    "    if epoch%1000 == 0:\n",
    "        print(\"epoch %d %f %f \" % (epoch, loss, vloss))   "
   ]
  },
  {
   "cell_type": "code",
   "execution_count": 129,
   "metadata": {
    "pycharm": {
     "is_executing": false
    }
   },
   "outputs": [
    {
     "data": {
      "text/plain": "<matplotlib.legend.Legend at 0x9dddab608>"
     },
     "metadata": {},
     "output_type": "execute_result",
     "execution_count": 129
    },
    {
     "data": {
      "text/plain": "<Figure size 432x288 with 1 Axes>",
      "image/png": "[encoded data removed]"
     },
     "metadata": {
      "needs_background": "light"
     },
     "output_type": "display_data"
    }
   ],
   "source": [
    "plt.plot(err_train, '.', label='train')\n",
    "plt.plot(err_valid, '.', label='valid')\n",
    "plt.legend()"
   ]
  },
  {
   "cell_type": "code",
   "execution_count": 135,
   "metadata": {
    "pycharm": {
     "is_executing": false
    }
   },
   "outputs": [
    {
     "data": {
      "text/plain": "<Figure size 432x288 with 1 Axes>",
      "image/png": "[encoded data removed]"
     },
     "metadata": {
      "needs_background": "light"
     },
     "output_type": "display_data"
    }
   ],
   "source": [
    "t_out_train = model(train_set[:][0])\n",
    "plt.plot(train_set[:][0].data.numpy(), t_out_train.data.view(-1).numpy(),'.')\n",
    "t_out_valid = model(valid_set[:][0])\n",
    "plt.plot(valid_set[:][0].data.numpy(), t_out_valid.data.view(-1).numpy(),'.')\n",
    "plt.plot(xs,ys,'.');"
   ]
  },
  {
   "cell_type": "code",
   "execution_count": 143,
   "metadata": {
    "pycharm": {
     "is_executing": false
    }
   },
   "outputs": [],
   "source": [
    "torch.save(model, \"model.pt\")"
   ]
  },
  {
   "cell_type": "code",
   "execution_count": 136,
   "metadata": {
    "pycharm": {
     "is_executing": false
    }
   },
   "outputs": [],
   "source": []
  }
 ],
 "metadata": {
  "kernelspec": {
   "display_name": "Python 3",
   "language": "python",
   "name": "python3"
  },
  "language_info": {
   "codemirror_mode": {
    "name": "ipython",
    "version": 3
   },
   "file_extension": ".py",
   "mimetype": "text/x-python",
   "name": "python",
   "nbconvert_exporter": "python",
   "pygments_lexer": "ipython3",
   "version": "3.6.6"
  },
  "pycharm": {
   "stem_cell": {
    "cell_type": "raw",
    "source": [],
    "metadata": {
     "collapsed": false
    }
   }
  }
 },
 "nbformat": 4,
 "nbformat_minor": 4
}